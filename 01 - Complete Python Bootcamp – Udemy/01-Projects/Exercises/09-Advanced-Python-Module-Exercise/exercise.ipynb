{
 "cells": [
  {
   "cell_type": "code",
   "execution_count": 1,
   "id": "bf201232-f85a-477c-bf3b-0efb579c6fb3",
   "metadata": {},
   "outputs": [],
   "source": [
    "import shutil"
   ]
  },
  {
   "cell_type": "code",
   "execution_count": 2,
   "id": "4d8cb7cf-24c9-4a1a-b06a-d49fb76d20a2",
   "metadata": {},
   "outputs": [],
   "source": [
    "shutil.unpack_archive(\"unzip_me_for_instructions.zip\", format=\"zip\")"
   ]
  },
  {
   "cell_type": "code",
   "execution_count": 3,
   "id": "34f98382-bf82-4c6f-a0cc-12f63fee94f2",
   "metadata": {},
   "outputs": [
    {
     "name": "stdout",
     "output_type": "stream",
     "text": [
      "Good work on unzipping the file!\n",
      "You should now see 5 folders, each with a lot of random .txt files.\n",
      "Within one of these text files is a telephone number formated ###-###-#### \n",
      "Use the Python os module and regular expressions to iterate through each file, open it, and search for a telephone number.\n",
      "Good luck!\n"
     ]
    }
   ],
   "source": [
    "with open(\"extracted_content/Instructions.txt\") as instructions:\n",
    "    print(instructions.read())"
   ]
  },
  {
   "cell_type": "code",
   "execution_count": 4,
   "id": "aa0b44b3-d103-45ef-8747-e95a296c6c14",
   "metadata": {},
   "outputs": [],
   "source": [
    "import re, os"
   ]
  },
  {
   "cell_type": "code",
   "execution_count": 5,
   "id": "a5f3c9c8-c1f1-4359-b27a-8e0398b3b74d",
   "metadata": {},
   "outputs": [],
   "source": [
    "pattern = r\"\\d{3}-\\d{3}-\\d{4}\"\n",
    "results = []\n",
    "for folder, sub_folders, files in os.walk(os.getcwd() + \"\\\\extracted_content\"):\n",
    "    for file in files:\n",
    "        content = open(folder + \"\\\\\" + file, \"r\")\n",
    "        text = content.read()\n",
    "\n",
    "        if re.search(pattern, text):\n",
    "            results.append(re.search(pattern, text))"
   ]
  },
  {
   "cell_type": "code",
   "execution_count": 6,
   "id": "0a1d3576-85f3-467a-8d52-6c305f8abf8d",
   "metadata": {},
   "outputs": [
    {
     "name": "stdout",
     "output_type": "stream",
     "text": [
      "719-266-2837\n"
     ]
    }
   ],
   "source": [
    "for result in results:\n",
    "    print(result.group())"
   ]
  }
 ],
 "metadata": {
  "kernelspec": {
   "display_name": "Python [conda env:base] *",
   "language": "python",
   "name": "conda-base-py"
  },
  "language_info": {
   "codemirror_mode": {
    "name": "ipython",
    "version": 3
   },
   "file_extension": ".py",
   "mimetype": "text/x-python",
   "name": "python",
   "nbconvert_exporter": "python",
   "pygments_lexer": "ipython3",
   "version": "3.13.5"
  }
 },
 "nbformat": 4,
 "nbformat_minor": 5
}
